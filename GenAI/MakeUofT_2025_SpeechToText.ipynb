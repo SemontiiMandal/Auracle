{
  "nbformat": 4,
  "nbformat_minor": 0,
  "metadata": {
    "colab": {
      "provenance": [],
      "gpuType": "T4"
    },
    "kernelspec": {
      "name": "python3",
      "display_name": "Python 3"
    },
    "language_info": {
      "name": "python"
    },
    "accelerator": "GPU"
  },
  "cells": [
    {
      "cell_type": "code",
      "source": [
        "from transformers import pipeline"
      ],
      "metadata": {
        "id": "2eksgNQtthIi"
      },
      "execution_count": null,
      "outputs": []
    },
    {
      "cell_type": "code",
      "source": [
        "cls = pipeline(\"automatic-speech-recognition\")"
      ],
      "metadata": {
        "id": "b5UmwTGwtlHo"
      },
      "execution_count": null,
      "outputs": []
    },
    {
      "cell_type": "code",
      "source": [
        "!pip install gradio"
      ],
      "metadata": {
        "id": "94rgzMLQtlMf"
      },
      "execution_count": null,
      "outputs": []
    },
    {
      "source": [
        "!pip install --upgrade gradio"
      ],
      "cell_type": "code",
      "metadata": {
        "id": "vHK0JWA63G2n"
      },
      "execution_count": null,
      "outputs": []
    },
    {
      "cell_type": "code",
      "source": [
        "import gradio as gr\n",
        "from transformers import pipeline\n",
        "\n",
        "# Load the speech recognition pipeline\n",
        "asr_pipeline = pipeline(\"automatic-speech-recognition\")\n",
        "\n",
        "def transcribe_audio(audio):\n",
        "    \"\"\"Convert recorded audio to text using ASR model.\"\"\"\n",
        "    result = asr_pipeline(audio)\n",
        "    return result[\"text\"]\n",
        "\n",
        "# Gradio UI\n",
        "interface = gr.Interface(\n",
        "    title=\"🎙️ Real-Time Speech-to-Text\",\n",
        "    description=\"Click 'Record' to capture your voice and convert it into text using AI.\",\n",
        "    fn=transcribe_audio,\n",
        "    inputs=gr.Audio(type=\"filepath\"),\n",
        "    outputs=gr.Textbox(label=\"Transcribed Text\"),\n",
        "    live=True\n",
        ")\n",
        "\n",
        "interface.launch(debug=True)\n",
        "\n",
        "import time\n",
        "while True:\n",
        "    time.sleep(3600)\n",
        "    print(\"Keeping session alive...\")\n",
        "    #interface.launch(debug=True)\n"
      ],
      "metadata": {
        "id": "LlL4-3Er1IsA"
      },
      "execution_count": null,
      "outputs": []
    }
  ]
}